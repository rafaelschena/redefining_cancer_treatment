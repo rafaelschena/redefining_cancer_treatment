{
 "cells": [
  {
   "cell_type": "markdown",
   "metadata": {},
   "source": [
    "# Engenharia de atributos\n",
    "Nesta etapa será realizada a limpeza dos dados gerados pelo cálculo do TF-IDF, bem como balanceamento de classes e redução de dimensionalidade do dataset. Ao final, é gerada a matriz de treinamento do modelo de machine learning."
   ]
  },
  {
   "cell_type": "code",
   "execution_count": 1,
   "metadata": {},
   "outputs": [],
   "source": [
    "import pandas as pd\n",
    "import numpy as np"
   ]
  },
  {
   "cell_type": "code",
   "execution_count": 2,
   "metadata": {},
   "outputs": [],
   "source": [
    "# Carga do arquivo completo de TF-IDF\n",
    "# Não efetuada por causa do problema de estouro de memória da máquina local\n",
    "#df1 = pd.read_json('./data_files/data_tf_idf_completo.json', orient='column')"
   ]
  },
  {
   "cell_type": "code",
   "execution_count": 3,
   "metadata": {},
   "outputs": [],
   "source": [
    "df2 = pd.read_json('./data_files/data_tf_idf.json', orient='column')"
   ]
  },
  {
   "cell_type": "code",
   "execution_count": 4,
   "metadata": {},
   "outputs": [
    {
     "data": {
      "text/plain": [
       "(57156, 3321)"
      ]
     },
     "execution_count": 4,
     "metadata": {},
     "output_type": "execute_result"
    }
   ],
   "source": [
    "df2.shape"
   ]
  },
  {
   "cell_type": "code",
   "execution_count": 5,
   "metadata": {
    "scrolled": true
   },
   "outputs": [
    {
     "data": {
      "text/html": [
       "<div>\n",
       "<style scoped>\n",
       "    .dataframe tbody tr th:only-of-type {\n",
       "        vertical-align: middle;\n",
       "    }\n",
       "\n",
       "    .dataframe tbody tr th {\n",
       "        vertical-align: top;\n",
       "    }\n",
       "\n",
       "    .dataframe thead th {\n",
       "        text-align: right;\n",
       "    }\n",
       "</style>\n",
       "<table border=\"1\" class=\"dataframe\">\n",
       "  <thead>\n",
       "    <tr style=\"text-align: right;\">\n",
       "      <th></th>\n",
       "      <th>0</th>\n",
       "      <th>1</th>\n",
       "      <th>2</th>\n",
       "      <th>3</th>\n",
       "      <th>4</th>\n",
       "      <th>5</th>\n",
       "      <th>6</th>\n",
       "      <th>7</th>\n",
       "      <th>8</th>\n",
       "      <th>9</th>\n",
       "      <th>...</th>\n",
       "      <th>3311</th>\n",
       "      <th>3312</th>\n",
       "      <th>3313</th>\n",
       "      <th>3314</th>\n",
       "      <th>3315</th>\n",
       "      <th>3316</th>\n",
       "      <th>3317</th>\n",
       "      <th>3318</th>\n",
       "      <th>3319</th>\n",
       "      <th>3320</th>\n",
       "    </tr>\n",
       "  </thead>\n",
       "  <tbody>\n",
       "    <tr>\n",
       "      <th>200</th>\n",
       "      <td>0.000760</td>\n",
       "      <td>0.000752</td>\n",
       "      <td>0.000752</td>\n",
       "      <td>NaN</td>\n",
       "      <td>0.000684</td>\n",
       "      <td>0.000684</td>\n",
       "      <td>0.000684</td>\n",
       "      <td>0.000449</td>\n",
       "      <td>0.000479</td>\n",
       "      <td>NaN</td>\n",
       "      <td>...</td>\n",
       "      <td>NaN</td>\n",
       "      <td>NaN</td>\n",
       "      <td>0.000783</td>\n",
       "      <td>0.000449</td>\n",
       "      <td>0.000594</td>\n",
       "      <td>0.000522</td>\n",
       "      <td>0.000807</td>\n",
       "      <td>NaN</td>\n",
       "      <td>NaN</td>\n",
       "      <td>NaN</td>\n",
       "    </tr>\n",
       "    <tr>\n",
       "      <th>assay</th>\n",
       "      <td>0.000074</td>\n",
       "      <td>0.000073</td>\n",
       "      <td>0.000073</td>\n",
       "      <td>0.000076</td>\n",
       "      <td>0.000066</td>\n",
       "      <td>0.000066</td>\n",
       "      <td>0.000066</td>\n",
       "      <td>0.000044</td>\n",
       "      <td>0.000046</td>\n",
       "      <td>0.000094</td>\n",
       "      <td>...</td>\n",
       "      <td>0.000068</td>\n",
       "      <td>0.000085</td>\n",
       "      <td>0.000076</td>\n",
       "      <td>0.000044</td>\n",
       "      <td>0.000058</td>\n",
       "      <td>0.000051</td>\n",
       "      <td>NaN</td>\n",
       "      <td>NaN</td>\n",
       "      <td>0.000096</td>\n",
       "      <td>0.000056</td>\n",
       "    </tr>\n",
       "    <tr>\n",
       "      <th>role</th>\n",
       "      <td>0.000131</td>\n",
       "      <td>0.000130</td>\n",
       "      <td>0.000130</td>\n",
       "      <td>0.000134</td>\n",
       "      <td>0.000118</td>\n",
       "      <td>0.000118</td>\n",
       "      <td>0.000118</td>\n",
       "      <td>0.000077</td>\n",
       "      <td>0.000082</td>\n",
       "      <td>0.000166</td>\n",
       "      <td>...</td>\n",
       "      <td>0.000121</td>\n",
       "      <td>0.000150</td>\n",
       "      <td>0.000135</td>\n",
       "      <td>0.000077</td>\n",
       "      <td>0.000102</td>\n",
       "      <td>0.000090</td>\n",
       "      <td>0.000139</td>\n",
       "      <td>0.000183</td>\n",
       "      <td>0.000171</td>\n",
       "      <td>0.000100</td>\n",
       "    </tr>\n",
       "    <tr>\n",
       "      <th>reveal</th>\n",
       "      <td>0.000700</td>\n",
       "      <td>NaN</td>\n",
       "      <td>NaN</td>\n",
       "      <td>0.000719</td>\n",
       "      <td>NaN</td>\n",
       "      <td>NaN</td>\n",
       "      <td>NaN</td>\n",
       "      <td>0.000413</td>\n",
       "      <td>NaN</td>\n",
       "      <td>NaN</td>\n",
       "      <td>...</td>\n",
       "      <td>NaN</td>\n",
       "      <td>0.000802</td>\n",
       "      <td>NaN</td>\n",
       "      <td>NaN</td>\n",
       "      <td>NaN</td>\n",
       "      <td>NaN</td>\n",
       "      <td>NaN</td>\n",
       "      <td>NaN</td>\n",
       "      <td>0.000913</td>\n",
       "      <td>0.000535</td>\n",
       "    </tr>\n",
       "    <tr>\n",
       "      <th>novagen</th>\n",
       "      <td>0.002749</td>\n",
       "      <td>NaN</td>\n",
       "      <td>NaN</td>\n",
       "      <td>NaN</td>\n",
       "      <td>NaN</td>\n",
       "      <td>NaN</td>\n",
       "      <td>NaN</td>\n",
       "      <td>NaN</td>\n",
       "      <td>NaN</td>\n",
       "      <td>NaN</td>\n",
       "      <td>...</td>\n",
       "      <td>NaN</td>\n",
       "      <td>NaN</td>\n",
       "      <td>NaN</td>\n",
       "      <td>NaN</td>\n",
       "      <td>NaN</td>\n",
       "      <td>NaN</td>\n",
       "      <td>NaN</td>\n",
       "      <td>NaN</td>\n",
       "      <td>NaN</td>\n",
       "      <td>NaN</td>\n",
       "    </tr>\n",
       "  </tbody>\n",
       "</table>\n",
       "<p>5 rows × 3321 columns</p>\n",
       "</div>"
      ],
      "text/plain": [
       "             0         1         2         3         4         5         6     \\\n",
       "200      0.000760  0.000752  0.000752       NaN  0.000684  0.000684  0.000684   \n",
       "assay    0.000074  0.000073  0.000073  0.000076  0.000066  0.000066  0.000066   \n",
       "role     0.000131  0.000130  0.000130  0.000134  0.000118  0.000118  0.000118   \n",
       "reveal   0.000700       NaN       NaN  0.000719       NaN       NaN       NaN   \n",
       "novagen  0.002749       NaN       NaN       NaN       NaN       NaN       NaN   \n",
       "\n",
       "             7         8         9     ...      3311      3312      3313  \\\n",
       "200      0.000449  0.000479       NaN  ...       NaN       NaN  0.000783   \n",
       "assay    0.000044  0.000046  0.000094  ...  0.000068  0.000085  0.000076   \n",
       "role     0.000077  0.000082  0.000166  ...  0.000121  0.000150  0.000135   \n",
       "reveal   0.000413       NaN       NaN  ...       NaN  0.000802       NaN   \n",
       "novagen       NaN       NaN       NaN  ...       NaN       NaN       NaN   \n",
       "\n",
       "             3314      3315      3316      3317      3318      3319      3320  \n",
       "200      0.000449  0.000594  0.000522  0.000807       NaN       NaN       NaN  \n",
       "assay    0.000044  0.000058  0.000051       NaN       NaN  0.000096  0.000056  \n",
       "role     0.000077  0.000102  0.000090  0.000139  0.000183  0.000171  0.000100  \n",
       "reveal        NaN       NaN       NaN       NaN       NaN  0.000913  0.000535  \n",
       "novagen       NaN       NaN       NaN       NaN       NaN       NaN       NaN  \n",
       "\n",
       "[5 rows x 3321 columns]"
      ]
     },
     "execution_count": 5,
     "metadata": {},
     "output_type": "execute_result"
    }
   ],
   "source": [
    "df2.head()"
   ]
  },
  {
   "cell_type": "code",
   "execution_count": 6,
   "metadata": {},
   "outputs": [],
   "source": [
    "df = df2.T\n",
    "del df2"
   ]
  },
  {
   "cell_type": "code",
   "execution_count": 7,
   "metadata": {},
   "outputs": [
    {
     "data": {
      "text/plain": [
       "(3321, 57156)"
      ]
     },
     "execution_count": 7,
     "metadata": {},
     "output_type": "execute_result"
    }
   ],
   "source": [
    "df.shape"
   ]
  },
  {
   "cell_type": "code",
   "execution_count": 8,
   "metadata": {
    "scrolled": true
   },
   "outputs": [
    {
     "data": {
      "text/html": [
       "<div>\n",
       "<style scoped>\n",
       "    .dataframe tbody tr th:only-of-type {\n",
       "        vertical-align: middle;\n",
       "    }\n",
       "\n",
       "    .dataframe tbody tr th {\n",
       "        vertical-align: top;\n",
       "    }\n",
       "\n",
       "    .dataframe thead th {\n",
       "        text-align: right;\n",
       "    }\n",
       "</style>\n",
       "<table border=\"1\" class=\"dataframe\">\n",
       "  <thead>\n",
       "    <tr style=\"text-align: right;\">\n",
       "      <th></th>\n",
       "      <th>200</th>\n",
       "      <th>assay</th>\n",
       "      <th>role</th>\n",
       "      <th>reveal</th>\n",
       "      <th>novagen</th>\n",
       "      <th>untagged</th>\n",
       "      <th>predicted</th>\n",
       "      <th>migration</th>\n",
       "      <th>especially</th>\n",
       "      <th>1i</th>\n",
       "      <th>...</th>\n",
       "      <th>gly42arg</th>\n",
       "      <th>hypocenter</th>\n",
       "      <th>a-bomb</th>\n",
       "      <th>q21q22</th>\n",
       "      <th>bcml</th>\n",
       "      <th>q22q22</th>\n",
       "      <th>aml-1</th>\n",
       "      <th>hdac-1</th>\n",
       "      <th>runx1–runx1t1</th>\n",
       "      <th>aml-1/eto</th>\n",
       "    </tr>\n",
       "  </thead>\n",
       "  <tbody>\n",
       "    <tr>\n",
       "      <th>0</th>\n",
       "      <td>0.000760</td>\n",
       "      <td>0.000074</td>\n",
       "      <td>0.000131</td>\n",
       "      <td>0.000700</td>\n",
       "      <td>0.002749</td>\n",
       "      <td>0.003357</td>\n",
       "      <td>0.000301</td>\n",
       "      <td>0.001245</td>\n",
       "      <td>0.000701</td>\n",
       "      <td>0.003401</td>\n",
       "      <td>...</td>\n",
       "      <td>NaN</td>\n",
       "      <td>NaN</td>\n",
       "      <td>NaN</td>\n",
       "      <td>NaN</td>\n",
       "      <td>NaN</td>\n",
       "      <td>NaN</td>\n",
       "      <td>NaN</td>\n",
       "      <td>NaN</td>\n",
       "      <td>NaN</td>\n",
       "      <td>NaN</td>\n",
       "    </tr>\n",
       "    <tr>\n",
       "      <th>1</th>\n",
       "      <td>0.000752</td>\n",
       "      <td>0.000073</td>\n",
       "      <td>0.000130</td>\n",
       "      <td>NaN</td>\n",
       "      <td>NaN</td>\n",
       "      <td>NaN</td>\n",
       "      <td>NaN</td>\n",
       "      <td>0.001232</td>\n",
       "      <td>0.000694</td>\n",
       "      <td>NaN</td>\n",
       "      <td>...</td>\n",
       "      <td>NaN</td>\n",
       "      <td>NaN</td>\n",
       "      <td>NaN</td>\n",
       "      <td>NaN</td>\n",
       "      <td>NaN</td>\n",
       "      <td>NaN</td>\n",
       "      <td>NaN</td>\n",
       "      <td>NaN</td>\n",
       "      <td>NaN</td>\n",
       "      <td>NaN</td>\n",
       "    </tr>\n",
       "    <tr>\n",
       "      <th>2</th>\n",
       "      <td>0.000752</td>\n",
       "      <td>0.000073</td>\n",
       "      <td>0.000130</td>\n",
       "      <td>NaN</td>\n",
       "      <td>NaN</td>\n",
       "      <td>NaN</td>\n",
       "      <td>NaN</td>\n",
       "      <td>0.001232</td>\n",
       "      <td>0.000694</td>\n",
       "      <td>NaN</td>\n",
       "      <td>...</td>\n",
       "      <td>NaN</td>\n",
       "      <td>NaN</td>\n",
       "      <td>NaN</td>\n",
       "      <td>NaN</td>\n",
       "      <td>NaN</td>\n",
       "      <td>NaN</td>\n",
       "      <td>NaN</td>\n",
       "      <td>NaN</td>\n",
       "      <td>NaN</td>\n",
       "      <td>NaN</td>\n",
       "    </tr>\n",
       "    <tr>\n",
       "      <th>3</th>\n",
       "      <td>NaN</td>\n",
       "      <td>0.000076</td>\n",
       "      <td>0.000134</td>\n",
       "      <td>0.000719</td>\n",
       "      <td>NaN</td>\n",
       "      <td>NaN</td>\n",
       "      <td>0.000309</td>\n",
       "      <td>NaN</td>\n",
       "      <td>NaN</td>\n",
       "      <td>NaN</td>\n",
       "      <td>...</td>\n",
       "      <td>NaN</td>\n",
       "      <td>NaN</td>\n",
       "      <td>NaN</td>\n",
       "      <td>NaN</td>\n",
       "      <td>NaN</td>\n",
       "      <td>NaN</td>\n",
       "      <td>NaN</td>\n",
       "      <td>NaN</td>\n",
       "      <td>NaN</td>\n",
       "      <td>NaN</td>\n",
       "    </tr>\n",
       "    <tr>\n",
       "      <th>4</th>\n",
       "      <td>0.000684</td>\n",
       "      <td>0.000066</td>\n",
       "      <td>0.000118</td>\n",
       "      <td>NaN</td>\n",
       "      <td>NaN</td>\n",
       "      <td>NaN</td>\n",
       "      <td>0.000271</td>\n",
       "      <td>NaN</td>\n",
       "      <td>0.000631</td>\n",
       "      <td>NaN</td>\n",
       "      <td>...</td>\n",
       "      <td>NaN</td>\n",
       "      <td>NaN</td>\n",
       "      <td>NaN</td>\n",
       "      <td>NaN</td>\n",
       "      <td>NaN</td>\n",
       "      <td>NaN</td>\n",
       "      <td>NaN</td>\n",
       "      <td>NaN</td>\n",
       "      <td>NaN</td>\n",
       "      <td>NaN</td>\n",
       "    </tr>\n",
       "  </tbody>\n",
       "</table>\n",
       "<p>5 rows × 57156 columns</p>\n",
       "</div>"
      ],
      "text/plain": [
       "        200     assay      role    reveal   novagen  untagged  predicted  \\\n",
       "0  0.000760  0.000074  0.000131  0.000700  0.002749  0.003357   0.000301   \n",
       "1  0.000752  0.000073  0.000130       NaN       NaN       NaN        NaN   \n",
       "2  0.000752  0.000073  0.000130       NaN       NaN       NaN        NaN   \n",
       "3       NaN  0.000076  0.000134  0.000719       NaN       NaN   0.000309   \n",
       "4  0.000684  0.000066  0.000118       NaN       NaN       NaN   0.000271   \n",
       "\n",
       "   migration  especially        1i  ...  gly42arg  hypocenter  a-bomb  q21q22  \\\n",
       "0   0.001245    0.000701  0.003401  ...       NaN         NaN     NaN     NaN   \n",
       "1   0.001232    0.000694       NaN  ...       NaN         NaN     NaN     NaN   \n",
       "2   0.001232    0.000694       NaN  ...       NaN         NaN     NaN     NaN   \n",
       "3        NaN         NaN       NaN  ...       NaN         NaN     NaN     NaN   \n",
       "4        NaN    0.000631       NaN  ...       NaN         NaN     NaN     NaN   \n",
       "\n",
       "   bcml  q22q22  aml-1  hdac-1  runx1–runx1t1  aml-1/eto  \n",
       "0   NaN     NaN    NaN     NaN            NaN        NaN  \n",
       "1   NaN     NaN    NaN     NaN            NaN        NaN  \n",
       "2   NaN     NaN    NaN     NaN            NaN        NaN  \n",
       "3   NaN     NaN    NaN     NaN            NaN        NaN  \n",
       "4   NaN     NaN    NaN     NaN            NaN        NaN  \n",
       "\n",
       "[5 rows x 57156 columns]"
      ]
     },
     "execution_count": 8,
     "metadata": {},
     "output_type": "execute_result"
    }
   ],
   "source": [
    "df.head()"
   ]
  },
  {
   "cell_type": "markdown",
   "metadata": {},
   "source": [
    "## Tratamento de NA's e normalização"
   ]
  },
  {
   "cell_type": "code",
   "execution_count": 9,
   "metadata": {},
   "outputs": [
    {
     "data": {
      "text/plain": [
       "0        True\n",
       "1       False\n",
       "2       False\n",
       "3        True\n",
       "4        True\n",
       "        ...  \n",
       "3316    False\n",
       "3317    False\n",
       "3318    False\n",
       "3319    False\n",
       "3320     True\n",
       "Name: predicted, Length: 3321, dtype: bool"
      ]
     },
     "execution_count": 9,
     "metadata": {},
     "output_type": "execute_result"
    }
   ],
   "source": [
    "df['predicted'].notna()"
   ]
  },
  {
   "cell_type": "code",
   "execution_count": 10,
   "metadata": {},
   "outputs": [],
   "source": [
    "# Preenchendo os NA's com o valor zero, dado que correspondem a palavras que não foram encontradas nos docs.\n",
    "df.fillna(0, inplace=True)"
   ]
  },
  {
   "cell_type": "code",
   "execution_count": 11,
   "metadata": {},
   "outputs": [
    {
     "data": {
      "text/html": [
       "<div>\n",
       "<style scoped>\n",
       "    .dataframe tbody tr th:only-of-type {\n",
       "        vertical-align: middle;\n",
       "    }\n",
       "\n",
       "    .dataframe tbody tr th {\n",
       "        vertical-align: top;\n",
       "    }\n",
       "\n",
       "    .dataframe thead th {\n",
       "        text-align: right;\n",
       "    }\n",
       "</style>\n",
       "<table border=\"1\" class=\"dataframe\">\n",
       "  <thead>\n",
       "    <tr style=\"text-align: right;\">\n",
       "      <th></th>\n",
       "      <th>200</th>\n",
       "      <th>assay</th>\n",
       "      <th>role</th>\n",
       "      <th>reveal</th>\n",
       "      <th>novagen</th>\n",
       "      <th>untagged</th>\n",
       "      <th>predicted</th>\n",
       "      <th>migration</th>\n",
       "      <th>especially</th>\n",
       "      <th>1i</th>\n",
       "      <th>...</th>\n",
       "      <th>gly42arg</th>\n",
       "      <th>hypocenter</th>\n",
       "      <th>a-bomb</th>\n",
       "      <th>q21q22</th>\n",
       "      <th>bcml</th>\n",
       "      <th>q22q22</th>\n",
       "      <th>aml-1</th>\n",
       "      <th>hdac-1</th>\n",
       "      <th>runx1–runx1t1</th>\n",
       "      <th>aml-1/eto</th>\n",
       "    </tr>\n",
       "  </thead>\n",
       "  <tbody>\n",
       "    <tr>\n",
       "      <th>0</th>\n",
       "      <td>0.000760</td>\n",
       "      <td>0.000074</td>\n",
       "      <td>0.000131</td>\n",
       "      <td>0.000700</td>\n",
       "      <td>0.002749</td>\n",
       "      <td>0.003357</td>\n",
       "      <td>0.000301</td>\n",
       "      <td>0.001245</td>\n",
       "      <td>0.000701</td>\n",
       "      <td>0.003401</td>\n",
       "      <td>...</td>\n",
       "      <td>0.0</td>\n",
       "      <td>0.0</td>\n",
       "      <td>0.0</td>\n",
       "      <td>0.0</td>\n",
       "      <td>0.0</td>\n",
       "      <td>0.0</td>\n",
       "      <td>0.0</td>\n",
       "      <td>0.0</td>\n",
       "      <td>0.0</td>\n",
       "      <td>0.0</td>\n",
       "    </tr>\n",
       "    <tr>\n",
       "      <th>1</th>\n",
       "      <td>0.000752</td>\n",
       "      <td>0.000073</td>\n",
       "      <td>0.000130</td>\n",
       "      <td>0.000000</td>\n",
       "      <td>0.000000</td>\n",
       "      <td>0.000000</td>\n",
       "      <td>0.000000</td>\n",
       "      <td>0.001232</td>\n",
       "      <td>0.000694</td>\n",
       "      <td>0.000000</td>\n",
       "      <td>...</td>\n",
       "      <td>0.0</td>\n",
       "      <td>0.0</td>\n",
       "      <td>0.0</td>\n",
       "      <td>0.0</td>\n",
       "      <td>0.0</td>\n",
       "      <td>0.0</td>\n",
       "      <td>0.0</td>\n",
       "      <td>0.0</td>\n",
       "      <td>0.0</td>\n",
       "      <td>0.0</td>\n",
       "    </tr>\n",
       "    <tr>\n",
       "      <th>2</th>\n",
       "      <td>0.000752</td>\n",
       "      <td>0.000073</td>\n",
       "      <td>0.000130</td>\n",
       "      <td>0.000000</td>\n",
       "      <td>0.000000</td>\n",
       "      <td>0.000000</td>\n",
       "      <td>0.000000</td>\n",
       "      <td>0.001232</td>\n",
       "      <td>0.000694</td>\n",
       "      <td>0.000000</td>\n",
       "      <td>...</td>\n",
       "      <td>0.0</td>\n",
       "      <td>0.0</td>\n",
       "      <td>0.0</td>\n",
       "      <td>0.0</td>\n",
       "      <td>0.0</td>\n",
       "      <td>0.0</td>\n",
       "      <td>0.0</td>\n",
       "      <td>0.0</td>\n",
       "      <td>0.0</td>\n",
       "      <td>0.0</td>\n",
       "    </tr>\n",
       "    <tr>\n",
       "      <th>3</th>\n",
       "      <td>0.000000</td>\n",
       "      <td>0.000076</td>\n",
       "      <td>0.000134</td>\n",
       "      <td>0.000719</td>\n",
       "      <td>0.000000</td>\n",
       "      <td>0.000000</td>\n",
       "      <td>0.000309</td>\n",
       "      <td>0.000000</td>\n",
       "      <td>0.000000</td>\n",
       "      <td>0.000000</td>\n",
       "      <td>...</td>\n",
       "      <td>0.0</td>\n",
       "      <td>0.0</td>\n",
       "      <td>0.0</td>\n",
       "      <td>0.0</td>\n",
       "      <td>0.0</td>\n",
       "      <td>0.0</td>\n",
       "      <td>0.0</td>\n",
       "      <td>0.0</td>\n",
       "      <td>0.0</td>\n",
       "      <td>0.0</td>\n",
       "    </tr>\n",
       "    <tr>\n",
       "      <th>4</th>\n",
       "      <td>0.000684</td>\n",
       "      <td>0.000066</td>\n",
       "      <td>0.000118</td>\n",
       "      <td>0.000000</td>\n",
       "      <td>0.000000</td>\n",
       "      <td>0.000000</td>\n",
       "      <td>0.000271</td>\n",
       "      <td>0.000000</td>\n",
       "      <td>0.000631</td>\n",
       "      <td>0.000000</td>\n",
       "      <td>...</td>\n",
       "      <td>0.0</td>\n",
       "      <td>0.0</td>\n",
       "      <td>0.0</td>\n",
       "      <td>0.0</td>\n",
       "      <td>0.0</td>\n",
       "      <td>0.0</td>\n",
       "      <td>0.0</td>\n",
       "      <td>0.0</td>\n",
       "      <td>0.0</td>\n",
       "      <td>0.0</td>\n",
       "    </tr>\n",
       "  </tbody>\n",
       "</table>\n",
       "<p>5 rows × 57156 columns</p>\n",
       "</div>"
      ],
      "text/plain": [
       "        200     assay      role    reveal   novagen  untagged  predicted  \\\n",
       "0  0.000760  0.000074  0.000131  0.000700  0.002749  0.003357   0.000301   \n",
       "1  0.000752  0.000073  0.000130  0.000000  0.000000  0.000000   0.000000   \n",
       "2  0.000752  0.000073  0.000130  0.000000  0.000000  0.000000   0.000000   \n",
       "3  0.000000  0.000076  0.000134  0.000719  0.000000  0.000000   0.000309   \n",
       "4  0.000684  0.000066  0.000118  0.000000  0.000000  0.000000   0.000271   \n",
       "\n",
       "   migration  especially        1i  ...  gly42arg  hypocenter  a-bomb  q21q22  \\\n",
       "0   0.001245    0.000701  0.003401  ...       0.0         0.0     0.0     0.0   \n",
       "1   0.001232    0.000694  0.000000  ...       0.0         0.0     0.0     0.0   \n",
       "2   0.001232    0.000694  0.000000  ...       0.0         0.0     0.0     0.0   \n",
       "3   0.000000    0.000000  0.000000  ...       0.0         0.0     0.0     0.0   \n",
       "4   0.000000    0.000631  0.000000  ...       0.0         0.0     0.0     0.0   \n",
       "\n",
       "   bcml  q22q22  aml-1  hdac-1  runx1–runx1t1  aml-1/eto  \n",
       "0   0.0     0.0    0.0     0.0            0.0        0.0  \n",
       "1   0.0     0.0    0.0     0.0            0.0        0.0  \n",
       "2   0.0     0.0    0.0     0.0            0.0        0.0  \n",
       "3   0.0     0.0    0.0     0.0            0.0        0.0  \n",
       "4   0.0     0.0    0.0     0.0            0.0        0.0  \n",
       "\n",
       "[5 rows x 57156 columns]"
      ]
     },
     "execution_count": 11,
     "metadata": {},
     "output_type": "execute_result"
    }
   ],
   "source": [
    "df.head()"
   ]
  },
  {
   "cell_type": "code",
   "execution_count": 12,
   "metadata": {},
   "outputs": [],
   "source": [
    "tf_idf = df.values"
   ]
  },
  {
   "cell_type": "code",
   "execution_count": 13,
   "metadata": {},
   "outputs": [
    {
     "data": {
      "text/plain": [
       "numpy.ndarray"
      ]
     },
     "execution_count": 13,
     "metadata": {},
     "output_type": "execute_result"
    }
   ],
   "source": [
    "type(tf_idf)"
   ]
  },
  {
   "cell_type": "code",
   "execution_count": 14,
   "metadata": {},
   "outputs": [
    {
     "data": {
      "text/plain": [
       "(3321, 57156)"
      ]
     },
     "execution_count": 14,
     "metadata": {},
     "output_type": "execute_result"
    }
   ],
   "source": [
    "tf_idf.shape"
   ]
  },
  {
   "cell_type": "code",
   "execution_count": 15,
   "metadata": {},
   "outputs": [
    {
     "data": {
      "text/plain": [
       "1.542756251341385"
      ]
     },
     "execution_count": 15,
     "metadata": {},
     "output_type": "execute_result"
    }
   ],
   "source": [
    "tf_idf.max()"
   ]
  },
  {
   "cell_type": "code",
   "execution_count": 16,
   "metadata": {},
   "outputs": [],
   "source": [
    "# Normalização dos dados pelo maior valor de TF_IDF\n",
    "tf_idf = tf_idf / tf_idf.max()"
   ]
  },
  {
   "cell_type": "code",
   "execution_count": 17,
   "metadata": {},
   "outputs": [
    {
     "data": {
      "text/plain": [
       "array([[4.92626978e-04, 4.78492842e-05, 8.48785975e-05, ...,\n",
       "        0.00000000e+00, 0.00000000e+00, 0.00000000e+00],\n",
       "       [4.87394829e-04, 4.73410810e-05, 8.39771091e-05, ...,\n",
       "        0.00000000e+00, 0.00000000e+00, 0.00000000e+00],\n",
       "       [4.87394829e-04, 4.73410810e-05, 8.39771091e-05, ...,\n",
       "        0.00000000e+00, 0.00000000e+00, 0.00000000e+00],\n",
       "       ...,\n",
       "       [0.00000000e+00, 0.00000000e+00, 1.18830036e-04, ...,\n",
       "        0.00000000e+00, 5.25252315e-03, 0.00000000e+00],\n",
       "       [0.00000000e+00, 6.23740400e-05, 1.10643683e-04, ...,\n",
       "        0.00000000e+00, 0.00000000e+00, 0.00000000e+00],\n",
       "       [0.00000000e+00, 3.65817444e-05, 6.48914025e-05, ...,\n",
       "        0.00000000e+00, 0.00000000e+00, 0.00000000e+00]])"
      ]
     },
     "execution_count": 17,
     "metadata": {},
     "output_type": "execute_result"
    }
   ],
   "source": [
    "tf_idf"
   ]
  },
  {
   "cell_type": "code",
   "execution_count": 18,
   "metadata": {},
   "outputs": [
    {
     "data": {
      "text/plain": [
       "1.0"
      ]
     },
     "execution_count": 18,
     "metadata": {},
     "output_type": "execute_result"
    }
   ],
   "source": [
    "tf_idf.max()"
   ]
  },
  {
   "cell_type": "code",
   "execution_count": 19,
   "metadata": {},
   "outputs": [],
   "source": [
    "del df"
   ]
  },
  {
   "cell_type": "markdown",
   "metadata": {},
   "source": [
    "## Divisão em dados de treino e teste"
   ]
  },
  {
   "cell_type": "code",
   "execution_count": 20,
   "metadata": {},
   "outputs": [],
   "source": [
    "import sklearn\n",
    "from sklearn.model_selection import train_test_split"
   ]
  },
  {
   "cell_type": "code",
   "execution_count": 21,
   "metadata": {},
   "outputs": [
    {
     "data": {
      "text/html": [
       "<div>\n",
       "<style scoped>\n",
       "    .dataframe tbody tr th:only-of-type {\n",
       "        vertical-align: middle;\n",
       "    }\n",
       "\n",
       "    .dataframe tbody tr th {\n",
       "        vertical-align: top;\n",
       "    }\n",
       "\n",
       "    .dataframe thead th {\n",
       "        text-align: right;\n",
       "    }\n",
       "</style>\n",
       "<table border=\"1\" class=\"dataframe\">\n",
       "  <thead>\n",
       "    <tr style=\"text-align: right;\">\n",
       "      <th></th>\n",
       "      <th>Text</th>\n",
       "      <th>Gene</th>\n",
       "      <th>Variation</th>\n",
       "      <th>Class</th>\n",
       "    </tr>\n",
       "  </thead>\n",
       "  <tbody>\n",
       "    <tr>\n",
       "      <th>0</th>\n",
       "      <td>Cyclin-dependent kinases (CDKs) regulate a var...</td>\n",
       "      <td>FAM58A</td>\n",
       "      <td>Truncating Mutations</td>\n",
       "      <td>1</td>\n",
       "    </tr>\n",
       "    <tr>\n",
       "      <th>1</th>\n",
       "      <td>Abstract Background  Non-small cell lung canc...</td>\n",
       "      <td>CBL</td>\n",
       "      <td>W802*</td>\n",
       "      <td>2</td>\n",
       "    </tr>\n",
       "    <tr>\n",
       "      <th>2</th>\n",
       "      <td>Abstract Background  Non-small cell lung canc...</td>\n",
       "      <td>CBL</td>\n",
       "      <td>Q249E</td>\n",
       "      <td>2</td>\n",
       "    </tr>\n",
       "    <tr>\n",
       "      <th>3</th>\n",
       "      <td>Recent evidence has demonstrated that acquired...</td>\n",
       "      <td>CBL</td>\n",
       "      <td>N454D</td>\n",
       "      <td>3</td>\n",
       "    </tr>\n",
       "    <tr>\n",
       "      <th>4</th>\n",
       "      <td>Oncogenic mutations in the monomeric Casitas B...</td>\n",
       "      <td>CBL</td>\n",
       "      <td>L399V</td>\n",
       "      <td>4</td>\n",
       "    </tr>\n",
       "  </tbody>\n",
       "</table>\n",
       "</div>"
      ],
      "text/plain": [
       "                                                Text    Gene  \\\n",
       "0  Cyclin-dependent kinases (CDKs) regulate a var...  FAM58A   \n",
       "1   Abstract Background  Non-small cell lung canc...     CBL   \n",
       "2   Abstract Background  Non-small cell lung canc...     CBL   \n",
       "3  Recent evidence has demonstrated that acquired...     CBL   \n",
       "4  Oncogenic mutations in the monomeric Casitas B...     CBL   \n",
       "\n",
       "              Variation  Class  \n",
       "0  Truncating Mutations      1  \n",
       "1                 W802*      2  \n",
       "2                 Q249E      2  \n",
       "3                 N454D      3  \n",
       "4                 L399V      4  "
      ]
     },
     "execution_count": 21,
     "metadata": {},
     "output_type": "execute_result"
    }
   ],
   "source": [
    "df = pd.read_json('data_files/merged_datasets.json', orient='split')\n",
    "df.head()"
   ]
  },
  {
   "cell_type": "code",
   "execution_count": 22,
   "metadata": {},
   "outputs": [
    {
     "data": {
      "text/html": [
       "<div>\n",
       "<style scoped>\n",
       "    .dataframe tbody tr th:only-of-type {\n",
       "        vertical-align: middle;\n",
       "    }\n",
       "\n",
       "    .dataframe tbody tr th {\n",
       "        vertical-align: top;\n",
       "    }\n",
       "\n",
       "    .dataframe thead th {\n",
       "        text-align: right;\n",
       "    }\n",
       "</style>\n",
       "<table border=\"1\" class=\"dataframe\">\n",
       "  <thead>\n",
       "    <tr style=\"text-align: right;\">\n",
       "      <th></th>\n",
       "      <th>Text</th>\n",
       "      <th>Gene</th>\n",
       "      <th>Variation</th>\n",
       "    </tr>\n",
       "    <tr>\n",
       "      <th>Class</th>\n",
       "      <th></th>\n",
       "      <th></th>\n",
       "      <th></th>\n",
       "    </tr>\n",
       "  </thead>\n",
       "  <tbody>\n",
       "    <tr>\n",
       "      <th>1</th>\n",
       "      <td>568</td>\n",
       "      <td>568</td>\n",
       "      <td>568</td>\n",
       "    </tr>\n",
       "    <tr>\n",
       "      <th>2</th>\n",
       "      <td>452</td>\n",
       "      <td>452</td>\n",
       "      <td>452</td>\n",
       "    </tr>\n",
       "    <tr>\n",
       "      <th>3</th>\n",
       "      <td>89</td>\n",
       "      <td>89</td>\n",
       "      <td>89</td>\n",
       "    </tr>\n",
       "    <tr>\n",
       "      <th>4</th>\n",
       "      <td>686</td>\n",
       "      <td>686</td>\n",
       "      <td>686</td>\n",
       "    </tr>\n",
       "    <tr>\n",
       "      <th>5</th>\n",
       "      <td>242</td>\n",
       "      <td>242</td>\n",
       "      <td>242</td>\n",
       "    </tr>\n",
       "    <tr>\n",
       "      <th>6</th>\n",
       "      <td>275</td>\n",
       "      <td>275</td>\n",
       "      <td>275</td>\n",
       "    </tr>\n",
       "    <tr>\n",
       "      <th>7</th>\n",
       "      <td>953</td>\n",
       "      <td>953</td>\n",
       "      <td>953</td>\n",
       "    </tr>\n",
       "    <tr>\n",
       "      <th>8</th>\n",
       "      <td>19</td>\n",
       "      <td>19</td>\n",
       "      <td>19</td>\n",
       "    </tr>\n",
       "    <tr>\n",
       "      <th>9</th>\n",
       "      <td>37</td>\n",
       "      <td>37</td>\n",
       "      <td>37</td>\n",
       "    </tr>\n",
       "  </tbody>\n",
       "</table>\n",
       "</div>"
      ],
      "text/plain": [
       "       Text  Gene  Variation\n",
       "Class                       \n",
       "1       568   568        568\n",
       "2       452   452        452\n",
       "3        89    89         89\n",
       "4       686   686        686\n",
       "5       242   242        242\n",
       "6       275   275        275\n",
       "7       953   953        953\n",
       "8        19    19         19\n",
       "9        37    37         37"
      ]
     },
     "execution_count": 22,
     "metadata": {},
     "output_type": "execute_result"
    }
   ],
   "source": [
    "# Contagem de observações por classe\n",
    "df.groupby(by='Class').count()"
   ]
  },
  {
   "cell_type": "markdown",
   "metadata": {},
   "source": [
    " Indica necessidade de balanceamento antes de treinamento do modelo. Porém, antes deve-se fazer a divisão em dados de treino e teste."
   ]
  },
  {
   "cell_type": "code",
   "execution_count": 23,
   "metadata": {},
   "outputs": [
    {
     "data": {
      "text/plain": [
       "array([1, 2, 2, ..., 1, 4, 4])"
      ]
     },
     "execution_count": 23,
     "metadata": {},
     "output_type": "execute_result"
    }
   ],
   "source": [
    "y = df['Class'].values\n",
    "y"
   ]
  },
  {
   "cell_type": "code",
   "execution_count": 24,
   "metadata": {},
   "outputs": [
    {
     "data": {
      "text/plain": [
       "(3321,)"
      ]
     },
     "execution_count": 24,
     "metadata": {},
     "output_type": "execute_result"
    }
   ],
   "source": [
    "y.shape"
   ]
  },
  {
   "cell_type": "code",
   "execution_count": 25,
   "metadata": {},
   "outputs": [],
   "source": [
    "X_train, X_test, y_train, y_test = train_test_split(tf_idf, y, test_size=0.3)"
   ]
  },
  {
   "cell_type": "code",
   "execution_count": 26,
   "metadata": {},
   "outputs": [
    {
     "data": {
      "text/plain": [
       "{'X_train': (2324, 57156),\n",
       " 'X_test': (997, 57156),\n",
       " 'y_train': (2324,),\n",
       " 'y_test': (997,)}"
      ]
     },
     "execution_count": 26,
     "metadata": {},
     "output_type": "execute_result"
    }
   ],
   "source": [
    "# Verificando as dimensões:\n",
    "\n",
    "dict = {'X_train': X_train.shape, 'X_test': X_test.shape, 'y_train': y_train.shape, 'y_test': y_test.shape}\n",
    "\n",
    "dict"
   ]
  },
  {
   "cell_type": "code",
   "execution_count": 27,
   "metadata": {},
   "outputs": [],
   "source": [
    "del df"
   ]
  },
  {
   "cell_type": "code",
   "execution_count": 1,
   "metadata": {},
   "outputs": [],
   "source": [
    "# Salvando os arrays para balanceamento em outro notebook"
   ]
  },
  {
   "cell_type": "code",
   "execution_count": 28,
   "metadata": {},
   "outputs": [],
   "source": [
    "np.savetxt('data_files/X_train.csv', X_train, delimiter=',')\n",
    "np.savetxt('data_files/y_train.csv', y_train, delimiter=',')\n",
    "np.savetxt('data_files/X_test.csv', X_test, delimiter=',')\n",
    "np.savetxt('data_files/y_test.csv', y_test, delimiter=',')"
   ]
  }
 ],
 "metadata": {
  "kernelspec": {
   "display_name": "Python 3",
   "language": "python",
   "name": "python3"
  },
  "language_info": {
   "codemirror_mode": {
    "name": "ipython",
    "version": 3
   },
   "file_extension": ".py",
   "mimetype": "text/x-python",
   "name": "python",
   "nbconvert_exporter": "python",
   "pygments_lexer": "ipython3",
   "version": "3.8.5"
  }
 },
 "nbformat": 4,
 "nbformat_minor": 4
}
